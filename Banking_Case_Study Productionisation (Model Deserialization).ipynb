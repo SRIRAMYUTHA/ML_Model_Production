{
 "cells": [
  {
   "cell_type": "code",
   "execution_count": 142,
   "id": "a7e52a1b",
   "metadata": {},
   "outputs": [],
   "source": [
    "import numpy as np\n",
    "from pickle import load"
   ]
  },
  {
   "cell_type": "code",
   "execution_count": 143,
   "id": "83934d37",
   "metadata": {},
   "outputs": [],
   "source": [
    "# Loading pretrained classifiers from pickle file\n",
    "\n",
    "scaler = load(open('models/standard_scaler.pkl', 'rb'))\n",
    "person_home_ownership_encoder=load(open('models/person_home_ownership.pkl', 'rb'))\n",
    "loan_intent_encoder=load(open('models/loan_intent.pkl', 'rb'))\n",
    "loan_grade_encoder=load(open('models/loan_grade.pkl', 'rb'))\n",
    "cb_person_default_on_file_encoder=load(open('models/cb_person_default_on_file.pkl', 'rb'))\n",
    "\n",
    "knn_classifier = load(open('models/knn_model.pkl', 'rb'))\n",
    "lr_classifier = load(open('models/lr_model.pkl', 'rb'))\n",
    "dt_classifier = load(open('models/dt_model.pkl', 'rb'))\n",
    "sv_classifier = load(open('models/sv_model.pkl', 'rb'))\n",
    "rf_classifier = load(open('models/rf_model.pkl', 'rb'))"
   ]
  },
  {
   "cell_type": "code",
   "execution_count": 144,
   "id": "9b728db6",
   "metadata": {},
   "outputs": [
    {
     "name": "stdout",
     "output_type": "stream",
     "text": [
      "Enter Banking Details\n",
      "Enter the Person Age: 21\n",
      "Enter the Person Income: 9600\n",
      "Enter the Person Employee Length: 5.0\n",
      "Enter the Loan Amount: 1000\n",
      "Enter the Loan Interest Rate: 11.14\n",
      "Enter the Loan Percent Income: 0.10\n",
      "Enter Person Credit History Length: 2\n",
      "Enter Person Home Ownership: OWN\n",
      "Enter Loan Intent: EDUCATION\n",
      "Enter Loan Grade: B\n",
      "Enter Historic Default: N\n"
     ]
    }
   ],
   "source": [
    "# Read the Query Data\n",
    "\n",
    "print(\"Enter Banking Details\")\n",
    "age = float(input('Enter the Person Age: '))\n",
    "income = float(input('Enter the Person Income: '))\n",
    "emp_length = float(input('Enter the Person Employee Length: '))\n",
    "loan_amt = float(input('Enter the Loan Amount: '))\n",
    "loan_int_rate= float(input('Enter the Loan Interest Rate: '))\n",
    "loan_percent_income= float(input('Enter the Loan Percent Income: '))\n",
    "cb_person_cred_hist_length= float(input('Enter Person Credit History Length: '))\n",
    "person_home_ownership=input('Enter Person Home Ownership: ')\n",
    "loan_intent=input('Enter Loan Intent: ')\n",
    "loan_grade=input('Enter Loan Grade: ')\n",
    "cb_person_default_on_file=input('Enter Historic Default: ')"
   ]
  },
  {
   "cell_type": "code",
   "execution_count": 145,
   "id": "ec6d73d1",
   "metadata": {},
   "outputs": [],
   "source": [
    "query_point = np.array([age,income,emp_length,loan_amt,loan_int_rate,loan_percent_income,cb_person_cred_hist_length]).reshape(1, -1)"
   ]
  },
  {
   "cell_type": "code",
   "execution_count": 146,
   "id": "20e02943",
   "metadata": {},
   "outputs": [],
   "source": [
    "query_point_transformed = scaler.transform(query_point)"
   ]
  },
  {
   "cell_type": "code",
   "execution_count": 147,
   "id": "7040c969",
   "metadata": {},
   "outputs": [],
   "source": [
    "#query_point_2 = np.array([person_home_ownership,loan_intent,loan_grade,cb_person_default_on_file]).reshape(1, -1)"
   ]
  },
  {
   "cell_type": "code",
   "execution_count": 148,
   "id": "9f8cbbdb",
   "metadata": {},
   "outputs": [
    {
     "name": "stdout",
     "output_type": "stream",
     "text": [
      "{'OWN': 1, 'MORTGAGE': 2, 'RENT': 3, 'OTHER': 4}\n"
     ]
    }
   ],
   "source": [
    "print(person_home_ownership_encoder)"
   ]
  },
  {
   "cell_type": "code",
   "execution_count": 149,
   "id": "5062076e",
   "metadata": {},
   "outputs": [
    {
     "name": "stdout",
     "output_type": "stream",
     "text": [
      "OWN 1\n"
     ]
    }
   ],
   "source": [
    "person_home_ownership_transformed=[]\n",
    "for i in person_home_ownership_encoder:\n",
    "    if i in person_home_ownership:\n",
    "        print(person_home_ownership,person_home_ownership_encoder[i])\n",
    "        person_home_ownership_transformed.append(person_home_ownership_encoder[i])"
   ]
  },
  {
   "cell_type": "code",
   "execution_count": 150,
   "id": "9a795c4d",
   "metadata": {},
   "outputs": [
    {
     "data": {
      "text/plain": [
       "[1]"
      ]
     },
     "execution_count": 150,
     "metadata": {},
     "output_type": "execute_result"
    }
   ],
   "source": [
    "person_home_ownership_transformed"
   ]
  },
  {
   "cell_type": "code",
   "execution_count": 151,
   "id": "fa41de68",
   "metadata": {},
   "outputs": [
    {
     "name": "stdout",
     "output_type": "stream",
     "text": [
      "{'VENTURE': 1, 'DEBTCONSOLIDATION': 2, 'HOMEIMPROVEMENT': 3, 'PERSONAL': 4, 'EDUCATION': 5, 'MEDICAL': 6}\n"
     ]
    }
   ],
   "source": [
    "print(loan_intent_encoder)"
   ]
  },
  {
   "cell_type": "code",
   "execution_count": 152,
   "id": "253d9bb5",
   "metadata": {},
   "outputs": [
    {
     "name": "stdout",
     "output_type": "stream",
     "text": [
      "EDUCATION 5\n"
     ]
    }
   ],
   "source": [
    "loan_intent_transformed=[]\n",
    "for i in loan_intent_encoder:\n",
    "    if i in loan_intent:\n",
    "        print(loan_intent,loan_intent_encoder[i])\n",
    "        loan_intent_transformed.append(loan_intent_encoder[i])"
   ]
  },
  {
   "cell_type": "code",
   "execution_count": 153,
   "id": "ac75e31a",
   "metadata": {},
   "outputs": [
    {
     "data": {
      "text/plain": [
       "[5]"
      ]
     },
     "execution_count": 153,
     "metadata": {},
     "output_type": "execute_result"
    }
   ],
   "source": [
    "loan_intent_transformed"
   ]
  },
  {
   "cell_type": "code",
   "execution_count": 154,
   "id": "19ce8caf",
   "metadata": {},
   "outputs": [
    {
     "name": "stdout",
     "output_type": "stream",
     "text": [
      "{'A': 1, 'B': 2, 'C': 3, 'D': 4, 'E': 5, 'F': 6, 'G': 7}\n"
     ]
    }
   ],
   "source": [
    "print(loan_grade_encoder)"
   ]
  },
  {
   "cell_type": "code",
   "execution_count": 155,
   "id": "8a9ccc60",
   "metadata": {},
   "outputs": [
    {
     "name": "stdout",
     "output_type": "stream",
     "text": [
      "B 2\n"
     ]
    }
   ],
   "source": [
    "loan_grade_transformed=[]\n",
    "for i in loan_grade_encoder:\n",
    "    if i in loan_grade:\n",
    "        print(loan_grade,loan_grade_encoder[i])\n",
    "        loan_grade_transformed.append(loan_grade_encoder[i])"
   ]
  },
  {
   "cell_type": "code",
   "execution_count": 156,
   "id": "8bd9333d",
   "metadata": {},
   "outputs": [
    {
     "name": "stdout",
     "output_type": "stream",
     "text": [
      "[2]\n"
     ]
    }
   ],
   "source": [
    "print(loan_grade_transformed)"
   ]
  },
  {
   "cell_type": "code",
   "execution_count": 157,
   "id": "3f329d2d",
   "metadata": {},
   "outputs": [
    {
     "name": "stdout",
     "output_type": "stream",
     "text": [
      "{'N': 1, 'Y': 2}\n"
     ]
    }
   ],
   "source": [
    "print(cb_person_default_on_file_encoder)"
   ]
  },
  {
   "cell_type": "code",
   "execution_count": 158,
   "id": "07d9bbfc",
   "metadata": {},
   "outputs": [
    {
     "name": "stdout",
     "output_type": "stream",
     "text": [
      "N 1\n"
     ]
    }
   ],
   "source": [
    "cb_person_default_on_file_transformed=[]\n",
    "for i in cb_person_default_on_file_encoder:\n",
    "    if i in cb_person_default_on_file:\n",
    "        print(cb_person_default_on_file,cb_person_default_on_file_encoder[i])\n",
    "        cb_person_default_on_file_transformed.append(cb_person_default_on_file_encoder[i])"
   ]
  },
  {
   "cell_type": "code",
   "execution_count": 159,
   "id": "7266d0d8",
   "metadata": {},
   "outputs": [
    {
     "data": {
      "text/plain": [
       "[1]"
      ]
     },
     "execution_count": 159,
     "metadata": {},
     "output_type": "execute_result"
    }
   ],
   "source": [
    "cb_person_default_on_file_transformed"
   ]
  },
  {
   "cell_type": "code",
   "execution_count": 160,
   "id": "5c07be04",
   "metadata": {},
   "outputs": [],
   "source": [
    "query_point_2 = np.array([person_home_ownership_transformed[0],\n",
    "                         loan_intent_transformed[0],\n",
    "                         loan_grade_transformed[0],\n",
    "                         cb_person_default_on_file_transformed[0]]).reshape(1, -1)"
   ]
  },
  {
   "cell_type": "code",
   "execution_count": 161,
   "id": "e2b6ea50",
   "metadata": {},
   "outputs": [],
   "source": [
    "new_query_point=np.append(query_point,query_point_2).reshape(1, -1)"
   ]
  },
  {
   "cell_type": "code",
   "execution_count": 162,
   "id": "28dc6f74",
   "metadata": {},
   "outputs": [
    {
     "data": {
      "text/plain": [
       "array([[2.100e+01, 9.600e+03, 5.000e+00, 1.000e+03, 1.114e+01, 1.000e-01,\n",
       "        2.000e+00, 1.000e+00, 5.000e+00, 2.000e+00, 1.000e+00]])"
      ]
     },
     "execution_count": 162,
     "metadata": {},
     "output_type": "execute_result"
    }
   ],
   "source": [
    "new_query_point"
   ]
  },
  {
   "cell_type": "markdown",
   "id": "82ee2c2a",
   "metadata": {},
   "source": [
    "## Prediction"
   ]
  },
  {
   "cell_type": "code",
   "execution_count": 171,
   "id": "a8b4340e",
   "metadata": {},
   "outputs": [
    {
     "name": "stdout",
     "output_type": "stream",
     "text": [
      "Non Default\n"
     ]
    }
   ],
   "source": [
    "#Loan Status : (0 is non default 1 is default\n",
    "pre=rf_classifier.predict(new_query_point)\n",
    "if pre==0:\n",
    "    print(\"Non Default\")\n",
    "else:\n",
    "    print(\"default\")"
   ]
  },
  {
   "cell_type": "code",
   "execution_count": null,
   "id": "a3232005",
   "metadata": {},
   "outputs": [],
   "source": []
  }
 ],
 "metadata": {
  "kernelspec": {
   "display_name": "Python 3 (ipykernel)",
   "language": "python",
   "name": "python3"
  },
  "language_info": {
   "codemirror_mode": {
    "name": "ipython",
    "version": 3
   },
   "file_extension": ".py",
   "mimetype": "text/x-python",
   "name": "python",
   "nbconvert_exporter": "python",
   "pygments_lexer": "ipython3",
   "version": "3.9.7"
  }
 },
 "nbformat": 4,
 "nbformat_minor": 5
}
